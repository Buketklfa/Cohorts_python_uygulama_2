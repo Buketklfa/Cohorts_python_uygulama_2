{
  "nbformat": 4,
  "nbformat_minor": 0,
  "metadata": {
    "colab": {
      "provenance": []
    },
    "kernelspec": {
      "name": "python3",
      "display_name": "Python 3"
    },
    "language_info": {
      "name": "python"
    }
  },
  "cells": [
    {
      "cell_type": "code",
      "execution_count": 1,
      "metadata": {
        "id": "ItyeuxTFHVuY"
      },
      "outputs": [],
      "source": [
        "import math"
      ]
    },
    {
      "cell_type": "code",
      "source": [
        "# Öklid mesafesini hesaplayan fonksiyon\n",
        "def euclideanDistance(point1, point2):\n",
        "    return math.sqrt((point2[0] - point1[0])**2 + (point2[1] - point1[1])**2)"
      ],
      "metadata": {
        "id": "9mXf1kozHp5X"
      },
      "execution_count": 2,
      "outputs": []
    },
    {
      "cell_type": "code",
      "source": [
        "# 2D uzaydaki noktaları içeren bir liste\n",
        "points = [(1, 2), (4, 6), (7, 1), (3, 3)]"
      ],
      "metadata": {
        "id": "sMPtBxOmHtLV"
      },
      "execution_count": 3,
      "outputs": []
    },
    {
      "cell_type": "code",
      "source": [
        "# Mesafeleri saklamak için bir liste oluşturuyoruz\n",
        "distances = []\n"
      ],
      "metadata": {
        "id": "eHNDa1ZBHv63"
      },
      "execution_count": 4,
      "outputs": []
    },
    {
      "cell_type": "code",
      "source": [
        "# Her nokta çifti arasındaki mesafeleri hesaplayıp distances listesine ekleme\n",
        "for i in range(len(points)):\n",
        "    for j in range(i + 1, len(points)):\n",
        "        dist = euclideanDistance(points[i], points[j])\n",
        "        distances.append(dist)"
      ],
      "metadata": {
        "id": "p8cK1jfKH34k"
      },
      "execution_count": 5,
      "outputs": []
    },
    {
      "cell_type": "code",
      "source": [
        "# Mesafeleri yazdırma\n",
        "print(\"Mesafeler:\", distances)"
      ],
      "metadata": {
        "colab": {
          "base_uri": "https://localhost:8080/"
        },
        "id": "tb_R7_V7H8Ke",
        "outputId": "87177440-b96e-404b-db98-0c5b87f3da1f"
      },
      "execution_count": 6,
      "outputs": [
        {
          "output_type": "stream",
          "name": "stdout",
          "text": [
            "Mesafeler: [5.0, 6.082762530298219, 2.23606797749979, 5.830951894845301, 3.1622776601683795, 4.47213595499958]\n"
          ]
        }
      ]
    },
    {
      "cell_type": "code",
      "source": [
        "# Minimum mesafeyi bulma\n",
        "min_distance = min(distances)\n",
        "print(\"Minimum mesafe:\", min_distance)"
      ],
      "metadata": {
        "colab": {
          "base_uri": "https://localhost:8080/"
        },
        "id": "EnSIQtU9IBUw",
        "outputId": "f0b5805c-725e-493f-bd07-31bf258fe25c"
      },
      "execution_count": 7,
      "outputs": [
        {
          "output_type": "stream",
          "name": "stdout",
          "text": [
            "Minimum mesafe: 2.23606797749979\n"
          ]
        }
      ]
    }
  ]
}